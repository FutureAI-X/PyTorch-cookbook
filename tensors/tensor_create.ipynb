{
 "cells": [
  {
   "cell_type": "markdown",
   "id": "4d1a655f",
   "metadata": {},
   "source": [
    "# Tensor 创建"
   ]
  },
  {
   "cell_type": "code",
   "execution_count": 59,
   "id": "46d62346",
   "metadata": {},
   "outputs": [],
   "source": [
    "import torch\n",
    "import numpy as np"
   ]
  },
  {
   "cell_type": "markdown",
   "id": "7a045b56",
   "metadata": {},
   "source": [
    "## 一 使用随机值或常量值"
   ]
  },
  {
   "cell_type": "markdown",
   "id": "f095c500",
   "metadata": {},
   "source": [
    "### 1.1 使用随机值"
   ]
  },
  {
   "cell_type": "code",
   "execution_count": 51,
   "id": "36189861",
   "metadata": {},
   "outputs": [
    {
     "data": {
      "text/plain": [
       "tensor([[0.4992, 0.0379, 0.2174],\n",
       "        [0.4890, 0.1022, 0.9435]])"
      ]
     },
     "execution_count": 51,
     "metadata": {},
     "output_type": "execute_result"
    }
   ],
   "source": [
    "shape = (2, 3,)\n",
    "tensor_rand = torch.rand(shape)\n",
    "tensor_rand"
   ]
  },
  {
   "cell_type": "markdown",
   "id": "af54d5e7",
   "metadata": {},
   "source": [
    "### 1.2 使用常量0"
   ]
  },
  {
   "cell_type": "code",
   "execution_count": 52,
   "id": "1c2d80e2",
   "metadata": {},
   "outputs": [
    {
     "data": {
      "text/plain": [
       "tensor([[0., 0., 0.],\n",
       "        [0., 0., 0.],\n",
       "        [0., 0., 0.]])"
      ]
     },
     "execution_count": 52,
     "metadata": {},
     "output_type": "execute_result"
    }
   ],
   "source": [
    "shape = (3, 3,)\n",
    "tensor_zeros = torch.zeros(shape)\n",
    "tensor_zeros"
   ]
  },
  {
   "cell_type": "markdown",
   "id": "0642e21f",
   "metadata": {},
   "source": [
    "### 1.3 使用常量1"
   ]
  },
  {
   "cell_type": "code",
   "execution_count": 53,
   "id": "04f1c6f3",
   "metadata": {},
   "outputs": [
    {
     "data": {
      "text/plain": [
       "tensor([[1., 1.],\n",
       "        [1., 1.],\n",
       "        [1., 1.]])"
      ]
     },
     "execution_count": 53,
     "metadata": {},
     "output_type": "execute_result"
    }
   ],
   "source": [
    "shape = (3, 2,)\n",
    "tensor_ones = torch.ones(shape)\n",
    "tensor_ones"
   ]
  },
  {
   "cell_type": "markdown",
   "id": "f06b3c56",
   "metadata": {},
   "source": [
    "## 二 直接从数据创建"
   ]
  },
  {
   "cell_type": "code",
   "execution_count": 50,
   "id": "4c1823f2",
   "metadata": {},
   "outputs": [
    {
     "data": {
      "text/plain": [
       "tensor([[1, 2],\n",
       "        [3, 4]])"
      ]
     },
     "execution_count": 50,
     "metadata": {},
     "output_type": "execute_result"
    }
   ],
   "source": [
    "data = [[1, 2], [3, 4]]\n",
    "tensor_data = torch.tensor(data)\n",
    "tensor_data"
   ]
  },
  {
   "cell_type": "markdown",
   "id": "a68a912d",
   "metadata": {},
   "source": [
    "## 三 从另一个张量创建"
   ]
  },
  {
   "cell_type": "code",
   "execution_count": 55,
   "id": "f171c6d5",
   "metadata": {},
   "outputs": [
    {
     "data": {
      "text/plain": [
       "tensor([[0.5559, 0.2070, 0.5764],\n",
       "        [0.8717, 0.9914, 0.7064],\n",
       "        [0.4187, 0.5707, 0.5561]])"
      ]
     },
     "execution_count": 55,
     "metadata": {},
     "output_type": "execute_result"
    }
   ],
   "source": [
    "tensor_rand_like = torch.rand_like(tensor_zeros)\n",
    "tensor_rand_like"
   ]
  },
  {
   "cell_type": "code",
   "execution_count": 56,
   "id": "b3633f7d",
   "metadata": {},
   "outputs": [
    {
     "data": {
      "text/plain": [
       "tensor([[0., 0.],\n",
       "        [0., 0.],\n",
       "        [0., 0.]])"
      ]
     },
     "execution_count": 56,
     "metadata": {},
     "output_type": "execute_result"
    }
   ],
   "source": [
    "tensor_zeros_like = torch.zeros_like(tensor_ones)\n",
    "tensor_zeros_like"
   ]
  },
  {
   "cell_type": "code",
   "execution_count": 57,
   "id": "1db44223",
   "metadata": {},
   "outputs": [
    {
     "data": {
      "text/plain": [
       "tensor([[1., 1., 1.],\n",
       "        [1., 1., 1.]])"
      ]
     },
     "execution_count": 57,
     "metadata": {},
     "output_type": "execute_result"
    }
   ],
   "source": [
    "tensor_ones_like = torch.ones_like(tensor_rand)\n",
    "tensor_ones_like"
   ]
  },
  {
   "cell_type": "markdown",
   "id": "a640b603",
   "metadata": {},
   "source": [
    "## 四 从 NumPy array"
   ]
  },
  {
   "cell_type": "code",
   "execution_count": 60,
   "id": "5e9b7d62",
   "metadata": {},
   "outputs": [
    {
     "data": {
      "text/plain": [
       "array([[1, 2],\n",
       "       [3, 4]])"
      ]
     },
     "execution_count": 60,
     "metadata": {},
     "output_type": "execute_result"
    }
   ],
   "source": [
    "np_data = [[1, 2], [3, 4]]\n",
    "np_array = np.array(np_data)\n",
    "np_array"
   ]
  },
  {
   "cell_type": "code",
   "execution_count": 61,
   "id": "c33e41b9",
   "metadata": {},
   "outputs": [
    {
     "data": {
      "text/plain": [
       "tensor([[1, 2],\n",
       "        [3, 4]])"
      ]
     },
     "execution_count": 61,
     "metadata": {},
     "output_type": "execute_result"
    }
   ],
   "source": [
    "tensor_numpy = torch.from_numpy(np_array)\n",
    "tensor_numpy"
   ]
  }
 ],
 "metadata": {
  "kernelspec": {
   "display_name": "pytorch-cookbook",
   "language": "python",
   "name": "python3"
  },
  "language_info": {
   "codemirror_mode": {
    "name": "ipython",
    "version": 3
   },
   "file_extension": ".py",
   "mimetype": "text/x-python",
   "name": "python",
   "nbconvert_exporter": "python",
   "pygments_lexer": "ipython3",
   "version": "3.10.19"
  }
 },
 "nbformat": 4,
 "nbformat_minor": 5
}
